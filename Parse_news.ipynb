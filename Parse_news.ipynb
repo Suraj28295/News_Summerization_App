{
 "cells": [
  {
   "cell_type": "code",
   "execution_count": 1,
   "metadata": {},
   "outputs": [],
   "source": [
    "# !pip install \n",
    "# bs4\n",
    "# newspaper3k"
   ]
  },
  {
   "cell_type": "code",
   "execution_count": null,
   "metadata": {},
   "outputs": [],
   "source": [
    "# To clear everything in Docker space\n",
    "# docker system prune -a --volumes"
   ]
  },
  {
   "cell_type": "code",
   "execution_count": 1,
   "metadata": {},
   "outputs": [],
   "source": [
    "Search_keyword=\"Elon musk\"\n",
    "Search_keyword=Search_keyword.replace(\" \",\"+\").lower()\n"
   ]
  },
  {
   "cell_type": "code",
   "execution_count": 24,
   "metadata": {},
   "outputs": [
    {
     "ename": "AttributeError",
     "evalue": "module 'urllib' has no attribute '__version__'",
     "output_type": "error",
     "traceback": [
      "\u001b[1;31m---------------------------------------------------------------------------\u001b[0m",
      "\u001b[1;31mAttributeError\u001b[0m                            Traceback (most recent call last)",
      "\u001b[1;32md:\\Python\\Dockerize your app\\Text-summerization-V2\\Parse_news.ipynb Cell 3'\u001b[0m in \u001b[0;36m<cell line: 2>\u001b[1;34m()\u001b[0m\n\u001b[0;32m      <a href='vscode-notebook-cell:/d%3A/Python/Dockerize%20your%20app/Text-summerization-V2/Parse_news.ipynb#ch0000033?line=0'>1</a>\u001b[0m \u001b[39mimport\u001b[39;00m \u001b[39murllib\u001b[39;00m\n\u001b[1;32m----> <a href='vscode-notebook-cell:/d%3A/Python/Dockerize%20your%20app/Text-summerization-V2/Parse_news.ipynb#ch0000033?line=1'>2</a>\u001b[0m urllib\u001b[39m.\u001b[39;49m__version__\n",
      "\u001b[1;31mAttributeError\u001b[0m: module 'urllib' has no attribute '__version__'"
     ]
    }
   ],
   "source": [
    "import urllib\n",
    "urllib."
   ]
  },
  {
   "cell_type": "code",
   "execution_count": 4,
   "metadata": {},
   "outputs": [],
   "source": [
    "# from bs4 import BeautifulSoup\n",
    "# from urllib.request import Request, urlopen\n",
    "# import re\n",
    "# search_url_FE=\"https://www.financialexpress.com/?s=\"+Search_keyword\n",
    "# req = Request(search_url_FE)\n",
    "# html_page = urlopen(req)\n",
    "\n",
    "# soup = BeautifulSoup(html_page, \"lxml\")\n",
    "\n",
    "# links = []\n",
    "# for link in soup.findAll('a'):\n",
    "#     if Search_keyword.split(\"+\") in link.get('href'):\n",
    "#         links.append(link.get('href'))\n",
    "\n",
    "# print(links)"
   ]
  },
  {
   "cell_type": "code",
   "execution_count": 5,
   "metadata": {},
   "outputs": [],
   "source": [
    "# def Get_FE_News(Search_keyword):\n",
    "#     search_url_FE=\"https://www.financialexpress.com/?s=\"+Search_keyword\n",
    "#     site = newspaper.build(search_url_FE)\n",
    "#     links_to_news=[i for i in site.article_urls() if('business-' in i)]\n",
    "#     all_detailed_news=[]\n",
    "#     for link in links_to_news:\n",
    "#         article = Article(link)\n",
    "#         article.download()\n",
    "#         article.parse()\n",
    "#         all_detailed_news.append(article.text)\n",
    "#     return(all_detailed_news)"
   ]
  },
  {
   "cell_type": "code",
   "execution_count": 2,
   "metadata": {},
   "outputs": [],
   "source": [
    "from bs4 import BeautifulSoup\n",
    "from urllib.request import Request, urlopen\n",
    "import re\n",
    "def BBC_News_scrape(Search_keyword):\n",
    "    search_url_BBC=\"https://www.bbc.co.uk/search?q=\"+Search_keyword+\"&page=1\"\n",
    "    req = Request(search_url_BBC)\n",
    "    html_page = urlopen(req)\n",
    "\n",
    "    soup = BeautifulSoup(html_page, \"lxml\")\n",
    "\n",
    "    links = []\n",
    "    for link in soup.findAll('a'):\n",
    "        if \"news/\" in link.get('href'):\n",
    "            print(link.get('href'))\n",
    "            # links.append(link.get('href'))\n",
    "            html_page_news = urlopen(link.get('href'))\n",
    "\n",
    "            soup_news = BeautifulSoup(html_page_news, \"lxml\")\n",
    "            articles=soup_news.find_all(attrs={'data-component':'text-block'})\n",
    "            Title_news=soup_news.find_all(attrs={'id':'main-heading'})\n",
    "            detailed_news_article=\" \".join([article.text for article in articles])\n",
    "            links.append({'Desc':detailed_news_article,\n",
    "                            'Title':Title_news[0].text,\n",
    "                            'Date':soup_news.find(attrs={'data-testid':\"timestamp\"})['datetime']})\n",
    "    return(links,soup_news)\n"
   ]
  },
  {
   "cell_type": "code",
   "execution_count": 2,
   "metadata": {},
   "outputs": [
    {
     "ename": "AttributeError",
     "evalue": "module 'datetime' has no attribute 'version'",
     "output_type": "error",
     "traceback": [
      "\u001b[1;31m---------------------------------------------------------------------------\u001b[0m",
      "\u001b[1;31mAttributeError\u001b[0m                            Traceback (most recent call last)",
      "\u001b[1;32md:\\Python\\Dockerize your app\\Text-summerization-V2\\Parse_news.ipynb Cell 7'\u001b[0m in \u001b[0;36m<cell line: 2>\u001b[1;34m()\u001b[0m\n\u001b[0;32m      <a href='vscode-notebook-cell:/d%3A/Python/Dockerize%20your%20app/Text-summerization-V2/Parse_news.ipynb#ch0000030?line=0'>1</a>\u001b[0m \u001b[39mimport\u001b[39;00m \u001b[39mdatetime\u001b[39;00m\n\u001b[1;32m----> <a href='vscode-notebook-cell:/d%3A/Python/Dockerize%20your%20app/Text-summerization-V2/Parse_news.ipynb#ch0000030?line=1'>2</a>\u001b[0m datetime\u001b[39m.\u001b[39;49mversion\n",
      "\u001b[1;31mAttributeError\u001b[0m: module 'datetime' has no attribute 'version'"
     ]
    }
   ],
   "source": [
    "import datetime\n",
    "datetime.version"
   ]
  },
  {
   "cell_type": "code",
   "execution_count": 2,
   "metadata": {},
   "outputs": [],
   "source": [
    "from bs4 import BeautifulSoup\n",
    "# from urllib.request import Request, urlopen\n",
    "import requests\n",
    "import re\n",
    "def BBC_News_scrape(Search_keyword):\n",
    "    search_url_BBC=\"https://www.bbc.co.uk/search?q=\"+Search_keyword+\"&page=1\"\n",
    "    # req = Request(search_url_BBC)\n",
    "    html_page = requests.get(search_url_BBC)\n",
    "\n",
    "    soup = BeautifulSoup(html_page.content, \"lxml\")\n",
    "\n",
    "    links = []\n",
    "    for link in soup.findAll('a'):\n",
    "        if \"news/\" in link.get('href'):\n",
    "            print(link.get('href'))\n",
    "            # links.append(link.get('href'))\n",
    "            html_page_news = requests.get(link.get('href'))\n",
    "\n",
    "            soup_news = BeautifulSoup(html_page_news.content, \"lxml\")\n",
    "            articles=soup_news.find_all(attrs={'data-component':'text-block'})\n",
    "            Title_news=soup_news.find_all(attrs={'id':'main-heading'})\n",
    "            detailed_news_article=\" \".join([article.text for article in articles])\n",
    "            links.append({'Desc':detailed_news_article,\n",
    "                            'Title':Title_news[0].text,\n",
    "                            'Date':soup_news.find(attrs={'data-testid':\"timestamp\"})['datetime']})\n",
    "    return(links)\n"
   ]
  },
  {
   "cell_type": "code",
   "execution_count": 3,
   "metadata": {},
   "outputs": [
    {
     "data": {
      "text/plain": [
       "'2.27.1'"
      ]
     },
     "execution_count": 3,
     "metadata": {},
     "output_type": "execute_result"
    }
   ],
   "source": [
    "requests.__version__"
   ]
  },
  {
   "cell_type": "code",
   "execution_count": 4,
   "metadata": {},
   "outputs": [
    {
     "name": "stdout",
     "output_type": "stream",
     "text": [
      "https://www.bbc.co.uk/news/business-61589229\n",
      "https://www.bbc.co.uk/news/business-61432483\n",
      "https://www.bbc.co.uk/news/world-us-canada-61526898\n",
      "https://www.bbc.co.uk/news/business-61432742\n",
      "https://www.bbc.co.uk/news/business-61433724\n",
      "https://www.bbc.co.uk/news/technology-61329167\n",
      "https://www.bbc.co.uk/news/help-41670342\n"
     ]
    }
   ],
   "source": [
    "BBC_News_articles=BBC_News_scrape(Search_keyword)"
   ]
  },
  {
   "cell_type": "code",
   "execution_count": 6,
   "metadata": {},
   "outputs": [
    {
     "data": {
      "text/plain": [
       "'A Twitter investor is suing Elon Musk and the social media platform over the handling of the billionaire\\'s $44bn (£34.9bn) bid for the company.  The case alleges he violated California corporate laws in a number of ways. It accuses the Tesla boss of \"wrongful conduct\" as his \"false statements and market manipulation have created \\'chaos\\' at Twitter\\'s headquarters in San Francisco\". Twitter shares are around 27% lower than Mr Musk\\'s $54.20 offer price. The proposed class action lawsuit was filed this week at the US District Court for the Northern District of California by investor William Heresniak, who said he was acting \"on behalf of himself and all others similarly situated\". A class-action is a lawsuit that has been filed or is defended by an individual acting on behalf of a group of people. The lawsuit claimed Mr Musk benefitted financially by delaying the disclosure of his significant stake in Twitter, and his plan to become a board member of the company. It also claimed that several tweets posted by Mr Musk, who is a regular Twitter user with more than 95m followers, were \"misleading\". It included a post in which Mr Musk said his takeover bid for the social media firm was on hold because of his doubts over the number of fake accounts on the platform. The tweet on 13 May \"constituted an effort to manipulate the market for Twitter shares as he knew about the fake accounts,\" the lawsuit said. It also said Mr Musk \"doubled down\" on his allegations four days later, by stating on Twitter that the deal \"cannot go forward\". On Friday, Frank Bottini, who is one of the lawyers representing the Twitter investors, told the BBC that the lawsuit was filed as Mr Musk \"continues to disparage the company he wants to buy for $44bn in an effort to renegotiate the purchase price\". \"The complaint we filed in San Francisco seeks to hold Musk liable for his unlawful conduct,\" Mr Bottini said. Mr Musk\\'s lawyers and Tesla did not immediately respond to a BBC request for comment on Friday. Twitter declined to comment when contacted by the BBC. Analysts have speculated that Mr Musk may be looking for ways to lower his takeover offer or walk away from the deal. He has tweeted several times that he was concerned about the number of fake accounts, or bots, on Twitter. A bot is a software programme that sends out automated posts and is often associated with misinformation on social media platforms. Mr Musk has also hinted that he may seek to pay less for Twitter than the $44bn agreed with the company\\'s board in March. Speaking at a technology conference earlier this month, he said striking a deal at a lower price was \"not out of the question\". Earlier this month, a Florida pension fund also challenged Mr Musk\\'s move to buy Twitter as it claimed a deal could not be struck in months as planned. The Orlando Police Pension Fund said Mr Musk was an \"interested shareholder\" in Twitter, as he had made agreements with major shareholders, including its co-founder Jack Dorsey, before he offered to buy the business. Citing the law in the US state of Delaware, where Twitter is incorporated, it said the deal should not be allowed to close before 2025. The fund did not disclose its stake in the social media platform, although it said it has been \"a beneficial owner of Twitter common stock\" at \"all relevant times\". You may also be interested in:'"
      ]
     },
     "execution_count": 6,
     "metadata": {},
     "output_type": "execute_result"
    }
   ],
   "source": [
    "BBC_News_articles[0]['Desc']"
   ]
  },
  {
   "cell_type": "code",
   "execution_count": null,
   "metadata": {},
   "outputs": [],
   "source": []
  },
  {
   "cell_type": "code",
   "execution_count": 24,
   "metadata": {},
   "outputs": [
    {
     "data": {
      "text/plain": [
       "{'Desc': 'A Twitter investor is suing Elon Musk and the social media platform over the handling of the billionaire\\'s $44bn (£34.9bn) bid for the company.  The case alleges he violated California corporate laws in a number of ways. It accuses the Tesla boss of \"wrongful conduct\" as his \"false statements and market manipulation have created \\'chaos\\' at Twitter\\'s headquarters in San Francisco\". Twitter shares are around 27% lower than Mr Musk\\'s $54.20 offer price. The proposed class action lawsuit was filed this week at the US District Court for the Northern District of California by investor William Heresniak, who said he was acting \"on behalf of himself and all others similarly situated\". A class-action is a lawsuit that has been filed or is defended by an individual acting on behalf of a group of people. The lawsuit claimed Mr Musk benefitted financially by delaying the disclosure of his significant stake in Twitter, and his plan to become a board member of the company. It also claimed that several tweets posted by Mr Musk, who is a regular Twitter user with more than 95m followers, were \"misleading\". It included a post in which Mr Musk said his takeover bid for the social media firm was on hold because of his doubts over the number of fake accounts on the platform. The tweet on 13 May \"constituted an effort to manipulate the market for Twitter shares as he knew about the fake accounts,\" the lawsuit said. It also said Mr Musk \"doubled down\" on his allegations four days later, by stating on Twitter that the deal \"cannot go forward\". On Friday, Frank Bottini, who is one of the lawyers representing the Twitter investors, told the BBC that the lawsuit was filed as Mr Musk \"continues to disparage the company he wants to buy for $44bn in an effort to renegotiate the purchase price\". \"The complaint we filed in San Francisco seeks to hold Musk liable for his unlawful conduct,\" Mr Bottini said. Mr Musk\\'s lawyers and Tesla did not immediately respond to a BBC request for comment on Friday. Twitter declined to comment when contacted by the BBC. Analysts have speculated that Mr Musk may be looking for ways to lower his takeover offer or walk away from the deal. He has tweeted several times that he was concerned about the number of fake accounts, or bots, on Twitter. A bot is a software programme that sends out automated posts and is often associated with misinformation on social media platforms. Mr Musk has also hinted that he may seek to pay less for Twitter than the $44bn agreed with the company\\'s board in March. Speaking at a technology conference earlier this month, he said striking a deal at a lower price was \"not out of the question\". Earlier this month, a Florida pension fund also challenged Mr Musk\\'s move to buy Twitter as it claimed a deal could not be struck in months as planned. The Orlando Police Pension Fund said Mr Musk was an \"interested shareholder\" in Twitter, as he had made agreements with major shareholders, including its co-founder Jack Dorsey, before he offered to buy the business. Citing the law in the US state of Delaware, where Twitter is incorporated, it said the deal should not be allowed to close before 2025. The fund did not disclose its stake in the social media platform, although it said it has been \"a beneficial owner of Twitter common stock\" at \"all relevant times\". You may also be interested in:',\n",
       " 'Title': 'Twitter investor sues Elon Musk and platform over takeover bid',\n",
       " 'Date': '2022-05-27T07:47:43.000Z'}"
      ]
     },
     "execution_count": 24,
     "metadata": {},
     "output_type": "execute_result"
    }
   ],
   "source": []
  },
  {
   "cell_type": "code",
   "execution_count": 51,
   "metadata": {},
   "outputs": [
    {
     "data": {
      "text/plain": [
       "'Microsoft stops selling products in Russia'"
      ]
     },
     "execution_count": 51,
     "metadata": {},
     "output_type": "execute_result"
    }
   ],
   "source": [
    "req_news = Request(\"https://www.bbc.co.uk/news/technology-60621205\")\n",
    "html_page_news = urlopen(req_news)\n",
    "\n",
    "soup_news = BeautifulSoup(html_page_news, \"lxml\")\n",
    "\n"
   ]
  },
  {
   "cell_type": "code",
   "execution_count": 64,
   "metadata": {},
   "outputs": [],
   "source": [
    "import json\n",
    "final = json.dumps(links)"
   ]
  },
  {
   "cell_type": "code",
   "execution_count": 69,
   "metadata": {},
   "outputs": [
    {
     "data": {
      "text/plain": [
       "{'Desc': 'When Tanya Short first pitched the idea for Boyfriend Dungeon, a computer game where the player\\'s romantic partners are monster-vanquishing weapons, publishers didn\\'t seem overly interested. \"They all rejected it. They said the name wasn\\'t interesting, or they just didn\\'t understand it,\" says Ms Short, the director and chief executive of independent game studio, Kitfox Games. It was only after a growing buzz about the game, and some initial funds, via Kickstarter, that the games platforms changed their tune.  Boyfriend Dungeon is now available on a variety of systems, including PC, Xbox and Nintendo Switch. But Ms Short worries that quirky games like hers, designed by creatively independent studios, will have an even harder route to market in the future - because the biggest corporate firms in gaming are expanding. In January, Microsoft said it plans to buy Activision Blizzard, one of the world\\'s largest game developers. At just less than $69bn (£51bn), it would be the biggest takeover in video games history and sees Microsoft gain franchises like Call of Duty and Warcraft.  Just weeks later, rival, Sony announced a deal to buy game developer Bungie, worth $3.6bn (£2.7bn). Reportedly, Microsoft\\'s deal will still have to satisfy the scrutiny of the US Federal Trade Commission, whose chair, Lina Khan, has expressed some opposition to big tech monopolies. Ms Short is one of a number of indie game developers who have told BBC News they are worried about what the deal could mean for the industry.  Microsoft insists it will continue to cater for small, independent developers. But some of those developers are deeply concerned, for instance, that if the Microsoft-owned, Game Pass subscription service, increasingly becomes the only means through which many people access games, small studios could be left competing for funding and promotion via that platform.  It could be viewed as a video game version of the problem that some artists say they face on music streaming platform, Spotify. Ms Short also points out that, currently, indie studios already avoid launching their games in the run-up to Christmas, since so many large, or \"triple-A\" titles are released during that period. Think Call of Duty or FIFA. But with greater consolidation of large developers - and platforms, such as Xbox and Game Pass, calling more of the shots - things could get even trickier. \"This Activision acquisition strikes fear in us because it makes it so much more obvious - maybe they could dominate the rest of the year and then what do we do?\" she says. Yura Zhdanovich, founder and game director at Sad Cat Studios, leads a team of around 20 people who are working on a cyberpunk adventure game, Replaced. It features an artificial intelligence hunting for meaning in a dystopian urban landscape.  When it\\'s released later this year, the game will appear on Game Pass and some other platforms. Mr Zhdanovich praises Microsoft in terms of how the firm has worked with his studio so far, though he says he worries about whether there will be enough support for indie developers in the future. While Game Pass currently offers some indie titles, among the 500 or so games available on the service, there aren\\'t that many of them, according to Piers Harding-Rolls, analyst at Ampere Analysis.  He says it is hard to predict what would happen if gamers were to increasingly sign up to Game Pass, or similar services, in the future, and move entirely away from buying games individually.  \"Conceivably, indie games outside of these services might lose engagement as subscribers focus most of their attention on games they can access for free within the service,\" he adds. It\\'s a concern because indie studios are currently in a \"race to the bottom\" in terms of revenue, says Jake Simpson of TNB Studios, a seasoned developer who has worked with Microsoft and Activision, among others. According to VG Insights, more than half of the indie games on the Steam distribution service have never made more than $4,000. \"People are prepared to spend $1,000 dollars (£740) on a telephone and then get very offended if you ask them to pay $4.99 for a game,\" says Simpson, who praises the innovation and creativity of many small developers. More technology of business: AI researcher and game designer, Mike Cook at Queen Mary University of London, says that there is an \"overcrowding\" problem that means it is hard for good games to find their audience. Very small developers, in particular, are feeling that pressure. \"The dream of individual people making games and publishing them has become a lot harder over the last few years,\" says Dr Cook. It is possible to self-publish Xbox games via Microsoft\\'s ID@Xbox scheme. The company\\'s Sarah Bond, corporate vice president at Xbox\\'s Gaming Ecosystem Organisation, argues that Game Pass will, if anything, benefit indie developers by introducing them to new and unfamiliar types of game.  As an example, she says that of the people who tried indie puzzle game, Human Fall Flat, on Game Pass, 60% had never played a puzzle game before. And that 40% of those people went on to buy a different puzzle game outside of Game Pass. \"We are continuing to invest with indie developers and we will continue to do so as the service grows,\" Ms Bond says in an interview with the BBC, though she declined to discuss specifics. \"No, it will not make us a monopoly,\" she adds, referring to the planned deal with Activision. Anisa Sanusi, a video game user interface designer, says news of the Microsoft-Activision deal has left indie studios \"on guard\".  She says she is concerned that Microsoft\\'s acquisition of game companies could lead to an overall decline in competition within the industry.  It\\'s important that indie developers survive, she adds, not just for creative diversity, but because smaller companies often provide less pressurised environments for artists, writers and programmers to get involved in the business of making games. \"We know the money\\'s there, we know it\\'s a lucrative business,\" she says. \"Yet, we still, as indie developers… we\\'re kind of clawing our way.\"',\n",
       " 'Title': \"Microsoft's mega-deal worries small video game makers\"}"
      ]
     },
     "execution_count": 69,
     "metadata": {},
     "output_type": "execute_result"
    }
   ],
   "source": [
    "links[1]"
   ]
  },
  {
   "cell_type": "code",
   "execution_count": 39,
   "metadata": {},
   "outputs": [],
   "source": [
    "import pandas as pd"
   ]
  },
  {
   "cell_type": "code",
   "execution_count": 42,
   "metadata": {},
   "outputs": [
    {
     "data": {
      "text/plain": [
       "'Microsoft has stopped selling its products and services in Russia, following the country\\'s invasion of Ukraine. Major tech companies including Apple and Dell have made similar decisions. Microsoft said it had paused other aspects of its business in the country to comply with government sanctions. It added that it was providing cyber-security support to Ukraine to defend against cyber-attacks initiated by Russia. \"Since the war began, we have acted against Russian positioning, destructive or disruptive measures against more than 20 Ukrainian government, IT and financial sector organisations,\" Microsoft president Brad Smith said in a statement. Several tech companies have also taken action to restrict Russian state-controlled media, such as RT and Sputnik. Earlier this week, Microsoft removed RT\\'s mobile apps from the Windows app store. Facebook, Google and YouTube have taken measures to restrict Russian state media from making money from ads on their platforms. Cisco, Oracle, Netflix and Spotify have also suspended operations in the country. Airbnb has stopped all bookings in Russia and Belarus, and has offered free housing to 100,000 refugees fleeing Ukraine. Dan Ives, an analyst at Wedbush Securities said: \"We expect more tech stalwarts to head down the same path and pull the plug on Russia by this weekend, given the horrific atrocities seen coming out of Ukraine.\" By contrast, Chinese companies, including Huawei, Xiaomi and Alibaba, have so far declined to comment on whether they would cut their business ties in Russia, according to business news broadcaster CNBC.'"
      ]
     },
     "execution_count": 42,
     "metadata": {},
     "output_type": "execute_result"
    }
   ],
   "source": []
  },
  {
   "cell_type": "code",
   "execution_count": null,
   "metadata": {},
   "outputs": [],
   "source": [
    "input_tag = soup.find_all(attrs={\"name\" : \"stainfo\"})\n"
   ]
  },
  {
   "cell_type": "code",
   "execution_count": 72,
   "metadata": {},
   "outputs": [],
   "source": [
    "search_url_bloom=\"https://www.bloomberg.com/search?query=elon%20musk\"\n",
    "site = newspaper.build(search_url_bloom)\n",
    "site.article_urls()\n",
    "article = Article(\"https://www.financialexpress.com/express-mobility/elon-musk-sees-global-inflation-to-last-18-more-months/2540894/\")\n",
    "article.download()\n",
    "article.parse()\n"
   ]
  },
  {
   "cell_type": "code",
   "execution_count": 73,
   "metadata": {},
   "outputs": [
    {
     "data": {
      "text/plain": [
       "'Breaking his silence over the current global meltdown, Tesla CEO Elon Musk on Friday said the recession the world is now experiencing owing to multiple macro-economic factors could last up to 18 months.\\n\\n“Based on past experience, about 12 to 18 months,” Musk replied to a follower who asked him about how long he thinks this recession will last.\\n\\nCompanies that are inherently negative cash flow (i.e. value destroyers) need to die, so that they stop consuming resources,” he added.\\n\\nWorld Bank chief David Malpass warned this week that Russia’s ongoing invasion of Ukraine could cause a global recession as the price of food, energy and fertiliser jump.\\n\\n“As we look at the global GDP, it’s hard right now to see how we avoid a recession… The idea of energy prices doubling is enough to trigger a recession by itself,” he was quoted as saying in media reports.\\n\\nLast month, the World Bank cut its global economic growth forecast for this year by almost a full percentage point, to 3.2 per cent.\\n\\nDeveloping countries are also being affected by shortages of fertiliser, food and energy.\\n\\nChina has been hit harder by the latest round of lockdowns. The Covid-19 measures have led to a sharp slowdown in economic activity across the country.\\n\\nThe US could also hit a recession before the end of this year or by early 2023, according to the chief investment officer of Hayman Capital.\\n\\nIn India, foreign portfolio investors have pulled out around Rs 2.5 lakh crore from the Indian equity market.\\n\\nGlobal financial services provider firm Moody’s Investors Service has slashed India’s GDP projection to 8.8 per cent for 2022, from 9.1 per cent estimated previously.\\n\\nThe Russia-Ukraine war, high inflation, Covid-19 lockdowns in China and rising interest rates are the reasons behind the economic activities being hampered across the globe.'"
      ]
     },
     "execution_count": 73,
     "metadata": {},
     "output_type": "execute_result"
    }
   ],
   "source": [
    "article.text"
   ]
  },
  {
   "cell_type": "code",
   "execution_count": null,
   "metadata": {},
   "outputs": [],
   "source": [
    "def Get_Bloom_News(Search_keyword):\n",
    "    search_url_BBC=\"https://www.bloomberg.com/search?query=elon%20musk\"\n",
    "    site = newspaper.build(search_url_BBC)\n",
    "    links_to_news=[i for i in site.article_urls() if('business-' in i)]\n",
    "    all_detailed_news=[]\n",
    "    for link in links_to_news:\n",
    "        article = Article(link)\n",
    "        article.download()\n",
    "        article.parse()\n",
    "        all_detailed_news.append(article.text)\n",
    "    return(all_detailed_news)"
   ]
  },
  {
   "cell_type": "code",
   "execution_count": null,
   "metadata": {},
   "outputs": [],
   "source": []
  },
  {
   "cell_type": "code",
   "execution_count": 28,
   "metadata": {},
   "outputs": [
    {
     "data": {
      "text/plain": [
       "'Mr Beykpour said that he is currently on paternity leave and was disappointed after being asked to leave by Mr Parag, who \"wants to take the team in a different direction\".'"
      ]
     },
     "execution_count": 28,
     "metadata": {},
     "output_type": "execute_result"
    }
   ],
   "source": [
    "all_detailed_news[2]"
   ]
  },
  {
   "cell_type": "code",
   "execution_count": 18,
   "metadata": {},
   "outputs": [],
   "source": [
    "article = Article(\"https://www.bbc.co.uk/news/business-61589229\")\n",
    "article.download()\n",
    "article.parse()"
   ]
  },
  {
   "cell_type": "code",
   "execution_count": 20,
   "metadata": {},
   "outputs": [
    {
     "data": {
      "text/plain": [
       "'On Friday, Frank Bottini, who is one of the lawyers representing the Twitter investors, told the BBC that the lawsuit was filed as Mr Musk \"continues to disparage the company he wants to buy for $44bn in an effort to renegotiate the purchase price\".'"
      ]
     },
     "execution_count": 20,
     "metadata": {},
     "output_type": "execute_result"
    }
   ],
   "source": [
    "article.text"
   ]
  },
  {
   "cell_type": "code",
   "execution_count": 16,
   "metadata": {},
   "outputs": [
    {
     "data": {
      "text/plain": [
       "[None, None, None, None, None, None, None, None, None, None, None, None, None]"
      ]
     },
     "execution_count": 16,
     "metadata": {},
     "output_type": "execute_result"
    }
   ],
   "source": [
    "all_detailed_news"
   ]
  },
  {
   "cell_type": "code",
   "execution_count": 29,
   "metadata": {},
   "outputs": [
    {
     "data": {
      "text/plain": [
       "'https://www.financialexpress.com/?s=Elon+musk'"
      ]
     },
     "execution_count": 29,
     "metadata": {},
     "output_type": "execute_result"
    }
   ],
   "source": [
    "search_url"
   ]
  },
  {
   "cell_type": "code",
   "execution_count": 33,
   "metadata": {},
   "outputs": [],
   "source": [
    "import requests\n",
    "from bs4 import BeautifulSoup\n",
    "import csv\n",
    "r = requests.get(search_url)\n",
    "  \n",
    "soup = BeautifulSoup(r.content, 'html.parser')"
   ]
  },
  {
   "cell_type": "code",
   "execution_count": 41,
   "metadata": {},
   "outputs": [
    {
     "name": "stdout",
     "output_type": "stream",
     "text": [
      "<html>\n",
      " <head>\n",
      "  <title>\n",
      "   Access Denied\n",
      "  </title>\n",
      " </head>\n",
      " <body>\n",
      "  <h1>\n",
      "   Access Denied\n",
      "  </h1>\n",
      "  You don't have permission to access \"http://www.financialexpress.com/?\" on this server.\n",
      "  <p>\n",
      "   Reference #18.b1832c31.1653833220.64c93ea\n",
      "  </p>\n",
      " </body>\n",
      "</html>\n",
      "\n"
     ]
    }
   ],
   "source": [
    "print(soup.prettify())"
   ]
  },
  {
   "cell_type": "code",
   "execution_count": 40,
   "metadata": {},
   "outputs": [
    {
     "data": {
      "text/plain": [
       "[]"
      ]
     },
     "execution_count": 40,
     "metadata": {},
     "output_type": "execute_result"
    }
   ],
   "source": [
    "soup.find_all(attrs={\"data-current-post-id\" : \"2540894\"})"
   ]
  }
 ],
 "metadata": {
  "interpreter": {
   "hash": "31671a60cee805c34c73116577b485118ff3a75c458d3004d49632c19702ac60"
  },
  "kernelspec": {
   "display_name": "Python 3.10.4 64-bit",
   "language": "python",
   "name": "python3"
  },
  "language_info": {
   "codemirror_mode": {
    "name": "ipython",
    "version": 3
   },
   "file_extension": ".py",
   "mimetype": "text/x-python",
   "name": "python",
   "nbconvert_exporter": "python",
   "pygments_lexer": "ipython3",
   "version": "3.10.4"
  },
  "orig_nbformat": 4
 },
 "nbformat": 4,
 "nbformat_minor": 2
}
